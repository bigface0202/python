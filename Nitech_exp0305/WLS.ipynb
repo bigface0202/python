{
 "cells": [
  {
   "cell_type": "code",
   "execution_count": 1,
   "metadata": {},
   "outputs": [
    {
     "name": "stderr",
     "output_type": "stream",
     "text": [
      "C:\\Users\\Yusuke\\Anaconda3\\lib\\site-packages\\statsmodels\\compat\\pandas.py:56: FutureWarning: The pandas.core.datetools module is deprecated and will be removed in a future version. Please use the pandas.tseries module instead.\n",
      "  from pandas.core import datetools\n"
     ]
    }
   ],
   "source": [
    "%matplotlib inline\n",
    "\n",
    "from __future__ import print_function\n",
    "import numpy as np\n",
    "from scipy import stats\n",
    "import statsmodels.api as sm\n",
    "import matplotlib.pyplot as plt\n",
    "from statsmodels.sandbox.regression.predstd import wls_prediction_std\n",
    "from statsmodels.iolib.table import (SimpleTable, default_txt_fmt)\n",
    "np.random.seed(1024)"
   ]
  },
  {
   "cell_type": "code",
   "execution_count": 2,
   "metadata": {
    "collapsed": true
   },
   "outputs": [],
   "source": [
    "nsample = 50\n",
    "x = np.linspace(0, 20, nsample)\n",
    "X = np.column_stack((x, (x - 5)**2))\n",
    "X = sm.add_constant(X)\n",
    "beta = [5., 0.5, -0.01]\n",
    "sig = 0.5\n",
    "w = np.ones(nsample)\n",
    "w[nsample * 6//10:] = 3\n",
    "y_true = np.dot(X, beta)\n",
    "e = np.random.normal(size=nsample)\n",
    "y = y_true + sig * w * e \n",
    "X = X[:,[0,1]]"
   ]
  },
  {
   "cell_type": "code",
   "execution_count": 7,
   "metadata": {},
   "outputs": [
    {
     "data": {
      "text/plain": [
       "array([  4.75      ,   4.99323199,   5.23313203,   5.46970012,\n",
       "         5.70293628,   5.93284048,   6.15941274,   6.38265306,\n",
       "         6.60256143,   6.81913786,   7.03238234,   7.24229488,\n",
       "         7.44887547,   7.65212411,   7.85204082,   8.04862557,\n",
       "         8.24187838,   8.43179925,   8.61838817,   8.80164515,\n",
       "         8.98157018,   9.15816327,   9.33142441,   9.5013536 ,\n",
       "         9.66795085,   9.83121616,   9.99114952,  10.14775094,\n",
       "        10.30102041,  10.45095793,  10.59756352,  10.74083715,\n",
       "        10.88077884,  11.01738859,  11.15066639,  11.28061224,\n",
       "        11.40722616,  11.53050812,  11.65045814,  11.76707622,\n",
       "        11.88036235,  11.99031653,  12.09693878,  12.20022907,\n",
       "        12.30018742,  12.39681383,  12.49010829,  12.5800708 ,\n",
       "        12.66670137,  12.75      ])"
      ]
     },
     "execution_count": 7,
     "metadata": {},
     "output_type": "execute_result"
    }
   ],
   "source": [
    "y_true"
   ]
  },
  {
   "cell_type": "code",
   "execution_count": 3,
   "metadata": {},
   "outputs": [
    {
     "name": "stdout",
     "output_type": "stream",
     "text": [
      "                            WLS Regression Results                            \n",
      "==============================================================================\n",
      "Dep. Variable:                      y   R-squared:                       0.910\n",
      "Model:                            WLS   Adj. R-squared:                  0.909\n",
      "Method:                 Least Squares   F-statistic:                     487.9\n",
      "Date:                Fri, 16 Mar 2018   Prob (F-statistic):           8.52e-27\n",
      "Time:                        08:38:56   Log-Likelihood:                -57.048\n",
      "No. Observations:                  50   AIC:                             118.1\n",
      "Df Residuals:                      48   BIC:                             121.9\n",
      "Df Model:                           1                                         \n",
      "Covariance Type:            nonrobust                                         \n",
      "==============================================================================\n",
      "                 coef    std err          t      P>|t|      [0.025      0.975]\n",
      "------------------------------------------------------------------------------\n",
      "const          5.2726      0.185     28.488      0.000       4.900       5.645\n",
      "x1             0.4379      0.020     22.088      0.000       0.398       0.478\n",
      "==============================================================================\n",
      "Omnibus:                        5.040   Durbin-Watson:                   2.242\n",
      "Prob(Omnibus):                  0.080   Jarque-Bera (JB):                6.431\n",
      "Skew:                           0.024   Prob(JB):                       0.0401\n",
      "Kurtosis:                       4.756   Cond. No.                         17.0\n",
      "==============================================================================\n",
      "\n",
      "Warnings:\n",
      "[1] Standard Errors assume that the covariance matrix of the errors is correctly specified.\n"
     ]
    }
   ],
   "source": [
    "mod_wls = sm.WLS(y, X, weights=1./w)\n",
    "res_wls = mod_wls.fit()\n",
    "print(res_wls.summary())"
   ]
  },
  {
   "cell_type": "code",
   "execution_count": null,
   "metadata": {
    "collapsed": true
   },
   "outputs": [],
   "source": []
  }
 ],
 "metadata": {
  "kernelspec": {
   "display_name": "Python 3",
   "language": "python",
   "name": "python3"
  },
  "language_info": {
   "codemirror_mode": {
    "name": "ipython",
    "version": 3
   },
   "file_extension": ".py",
   "mimetype": "text/x-python",
   "name": "python",
   "nbconvert_exporter": "python",
   "pygments_lexer": "ipython3",
   "version": "3.6.3"
  }
 },
 "nbformat": 4,
 "nbformat_minor": 2
}
